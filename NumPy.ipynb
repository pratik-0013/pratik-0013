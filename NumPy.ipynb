{
  "cells": [
    {
      "cell_type": "markdown",
      "metadata": {
        "id": "view-in-github",
        "colab_type": "text"
      },
      "source": [
        "<a href=\"https://colab.research.google.com/github/pratik-0013/pratik-0013/blob/main/NumPy.ipynb\" target=\"_parent\"><img src=\"https://colab.research.google.com/assets/colab-badge.svg\" alt=\"Open In Colab\"/></a>"
      ]
    },
    {
      "cell_type": "code",
      "execution_count": null,
      "id": "0b8cfec0",
      "metadata": {
        "id": "0b8cfec0"
      },
      "outputs": [],
      "source": [
        "import numpy as np\n",
        "import pandas as pd\n",
        "import matplotlib.pyplot as plt\n",
        "import sklearn"
      ]
    },
    {
      "cell_type": "markdown",
      "id": "773c8d70",
      "metadata": {
        "id": "773c8d70"
      },
      "source": [
        "# DataTypes & Attributes\n"
      ]
    },
    {
      "cell_type": "code",
      "execution_count": null,
      "id": "d536067a",
      "metadata": {
        "id": "d536067a",
        "outputId": "528ddf37-df14-41c0-be3d-66449b7f62f5"
      },
      "outputs": [
        {
          "data": {
            "text/plain": [
              "array([1, 2, 3])"
            ]
          },
          "execution_count": 6,
          "metadata": {},
          "output_type": "execute_result"
        }
      ],
      "source": [
        "# NumPy's main data type is ndarry\n",
        "a1 = np.array([1, 2, 3])\n",
        "a1"
      ]
    },
    {
      "cell_type": "code",
      "execution_count": null,
      "id": "7d95d990",
      "metadata": {
        "id": "7d95d990",
        "outputId": "8e64238f-3b3c-4617-8da3-4d80f7f21e8b"
      },
      "outputs": [
        {
          "data": {
            "text/plain": [
              "numpy.ndarray"
            ]
          },
          "execution_count": 7,
          "metadata": {},
          "output_type": "execute_result"
        }
      ],
      "source": [
        "type(a1)"
      ]
    },
    {
      "cell_type": "code",
      "execution_count": null,
      "id": "6b64c83a",
      "metadata": {
        "id": "6b64c83a"
      },
      "outputs": [],
      "source": [
        "a2 = np.array([[1, 2.0, 3.3],\n",
        "             [4, 5, 6.5]])\n",
        "\n",
        "a3 = np.array([[[1, 2, 3],\n",
        "             [4, 5, 6],\n",
        "             [7, 8, 9]],\n",
        "              [[10, 11, 12],\n",
        "              [13, 14, 15],\n",
        "              [16, 17, 18]]])"
      ]
    },
    {
      "cell_type": "code",
      "execution_count": null,
      "id": "3977afb0",
      "metadata": {
        "id": "3977afb0",
        "outputId": "916ef130-92d0-438b-cd28-6d5150a209d9"
      },
      "outputs": [
        {
          "data": {
            "text/plain": [
              "array([[1. , 2. , 3.3],\n",
              "       [4. , 5. , 6.5]])"
            ]
          },
          "execution_count": 9,
          "metadata": {},
          "output_type": "execute_result"
        }
      ],
      "source": [
        "a2"
      ]
    },
    {
      "cell_type": "code",
      "execution_count": null,
      "id": "7d69a993",
      "metadata": {
        "id": "7d69a993",
        "outputId": "04d71476-092c-49d3-855d-17ef5dd951fb"
      },
      "outputs": [
        {
          "data": {
            "text/plain": [
              "array([[[ 1,  2,  3],\n",
              "        [ 4,  5,  6],\n",
              "        [ 7,  8,  9]],\n",
              "\n",
              "       [[10, 11, 12],\n",
              "        [13, 14, 15],\n",
              "        [16, 17, 18]]])"
            ]
          },
          "execution_count": 10,
          "metadata": {},
          "output_type": "execute_result"
        }
      ],
      "source": [
        "a3"
      ]
    },
    {
      "cell_type": "code",
      "execution_count": null,
      "id": "d3ab6f90",
      "metadata": {
        "id": "d3ab6f90",
        "outputId": "c3ea7910-7619-4ea8-b902-cdd2aeb5f5ad"
      },
      "outputs": [
        {
          "data": {
            "text/plain": [
              "(3,)"
            ]
          },
          "execution_count": 11,
          "metadata": {},
          "output_type": "execute_result"
        }
      ],
      "source": [
        "a1.shape"
      ]
    },
    {
      "cell_type": "code",
      "execution_count": null,
      "id": "83d93508",
      "metadata": {
        "id": "83d93508",
        "outputId": "ea1a8a8d-a89c-4586-8a1a-1d4a8ea72304"
      },
      "outputs": [
        {
          "data": {
            "text/plain": [
              "(2, 3)"
            ]
          },
          "execution_count": 12,
          "metadata": {},
          "output_type": "execute_result"
        }
      ],
      "source": [
        "a2.shape"
      ]
    },
    {
      "cell_type": "code",
      "execution_count": null,
      "id": "75a5fd2e",
      "metadata": {
        "id": "75a5fd2e",
        "outputId": "99495d85-029f-4c05-9715-3c3a97552ca4"
      },
      "outputs": [
        {
          "data": {
            "text/plain": [
              "(2, 3, 3)"
            ]
          },
          "execution_count": 13,
          "metadata": {},
          "output_type": "execute_result"
        }
      ],
      "source": [
        "a3.shape"
      ]
    },
    {
      "cell_type": "code",
      "execution_count": null,
      "id": "e3353d53",
      "metadata": {
        "id": "e3353d53",
        "outputId": "be6541c4-0089-439b-cfd4-382140fb115d"
      },
      "outputs": [
        {
          "data": {
            "text/plain": [
              "(1, 2, 3)"
            ]
          },
          "execution_count": 14,
          "metadata": {},
          "output_type": "execute_result"
        }
      ],
      "source": [
        "a1.ndim, a2.ndim, a3.ndim # no of dimensions"
      ]
    },
    {
      "cell_type": "code",
      "execution_count": null,
      "id": "30967d83",
      "metadata": {
        "id": "30967d83",
        "outputId": "a1f662c0-91ad-4324-c282-80263c35ce68"
      },
      "outputs": [
        {
          "data": {
            "text/plain": [
              "(dtype('int32'), dtype('float64'), dtype('int32'))"
            ]
          },
          "execution_count": 15,
          "metadata": {},
          "output_type": "execute_result"
        }
      ],
      "source": [
        "a1.dtype, a2.dtype, a3.dtype"
      ]
    },
    {
      "cell_type": "code",
      "execution_count": null,
      "id": "14335945",
      "metadata": {
        "id": "14335945",
        "outputId": "fd4c6c08-4ab8-4a09-a44f-992a36b75190"
      },
      "outputs": [
        {
          "data": {
            "text/plain": [
              "(3, 6, 18)"
            ]
          },
          "execution_count": 16,
          "metadata": {},
          "output_type": "execute_result"
        }
      ],
      "source": [
        "a1.size, a2.size, a3.size"
      ]
    },
    {
      "cell_type": "code",
      "execution_count": null,
      "id": "fb10434a",
      "metadata": {
        "id": "fb10434a",
        "outputId": "a6fc6606-d289-4f3f-b346-448894f2015f"
      },
      "outputs": [
        {
          "data": {
            "text/plain": [
              "(numpy.ndarray, numpy.ndarray, numpy.ndarray)"
            ]
          },
          "execution_count": 17,
          "metadata": {},
          "output_type": "execute_result"
        }
      ],
      "source": [
        "type(a1), type(a2), type(a3)"
      ]
    },
    {
      "cell_type": "code",
      "execution_count": null,
      "id": "03434acb",
      "metadata": {
        "id": "03434acb",
        "outputId": "a8e2d8ee-44e3-4c41-a609-c48bb6207a99"
      },
      "outputs": [
        {
          "ename": "NameError",
          "evalue": "name 'df' is not defined",
          "output_type": "error",
          "traceback": [
            "\u001b[1;31m---------------------------------------------------------------------------\u001b[0m",
            "\u001b[1;31mNameError\u001b[0m                                 Traceback (most recent call last)",
            "Cell \u001b[1;32mIn[18], line 3\u001b[0m\n\u001b[0;32m      1\u001b[0m \u001b[38;5;66;03m# Create a dataframe from a numpy array\u001b[39;00m\n\u001b[0;32m      2\u001b[0m df2 \u001b[38;5;241m=\u001b[39m pd\u001b[38;5;241m.\u001b[39mDataFrame(a2)\n\u001b[1;32m----> 3\u001b[0m \u001b[43mdf\u001b[49m\n",
            "\u001b[1;31mNameError\u001b[0m: name 'df' is not defined"
          ]
        }
      ],
      "source": [
        "# Create a dataframe from a numpy array\n",
        "df2 = pd.DataFrame(a2)\n",
        "df"
      ]
    },
    {
      "cell_type": "markdown",
      "id": "aea1238e",
      "metadata": {
        "id": "aea1238e"
      },
      "source": [
        "## 2. Create NumPy Array"
      ]
    },
    {
      "cell_type": "code",
      "execution_count": null,
      "id": "6bd2e74c",
      "metadata": {
        "id": "6bd2e74c"
      },
      "outputs": [],
      "source": [
        "sample_array = np.array([1, 2, 3])\n",
        "sample_array"
      ]
    },
    {
      "cell_type": "markdown",
      "id": "8d98fa28",
      "metadata": {
        "id": "8d98fa28"
      },
      "source": []
    },
    {
      "cell_type": "code",
      "execution_count": null,
      "id": "9053b084",
      "metadata": {
        "id": "9053b084"
      },
      "outputs": [],
      "source": [
        "sample_array.dtype"
      ]
    },
    {
      "cell_type": "code",
      "execution_count": null,
      "id": "1043e41a",
      "metadata": {
        "id": "1043e41a"
      },
      "outputs": [],
      "source": [
        "ones = np.ones((5, 6))\n",
        "ones"
      ]
    },
    {
      "cell_type": "code",
      "execution_count": null,
      "id": "e9ceb338",
      "metadata": {
        "id": "e9ceb338"
      },
      "outputs": [],
      "source": [
        "ones.dtype"
      ]
    },
    {
      "cell_type": "code",
      "execution_count": null,
      "id": "bf42ad1a",
      "metadata": {
        "id": "bf42ad1a"
      },
      "outputs": [],
      "source": [
        "type(ones)"
      ]
    },
    {
      "cell_type": "code",
      "execution_count": null,
      "id": "09d4c69f",
      "metadata": {
        "id": "09d4c69f"
      },
      "outputs": [],
      "source": [
        "zeros = np.zeros((2, 3))\n",
        "zeros"
      ]
    },
    {
      "cell_type": "code",
      "execution_count": null,
      "id": "17db655c",
      "metadata": {
        "id": "17db655c"
      },
      "outputs": [],
      "source": [
        "zeros.dtype"
      ]
    },
    {
      "cell_type": "code",
      "execution_count": null,
      "id": "91eafa42",
      "metadata": {
        "id": "91eafa42"
      },
      "outputs": [],
      "source": [
        "type(zeros)"
      ]
    },
    {
      "cell_type": "code",
      "execution_count": null,
      "id": "6c77c2dc",
      "metadata": {
        "id": "6c77c2dc"
      },
      "outputs": [],
      "source": [
        "range_array = np.arange(0, 12, 2)\n",
        "range_array"
      ]
    },
    {
      "cell_type": "code",
      "execution_count": null,
      "id": "3f29075d",
      "metadata": {
        "id": "3f29075d"
      },
      "outputs": [],
      "source": [
        "range_array.dtype"
      ]
    },
    {
      "cell_type": "code",
      "execution_count": null,
      "id": "9b2f69cc",
      "metadata": {
        "id": "9b2f69cc"
      },
      "outputs": [],
      "source": [
        "type(range_array)"
      ]
    },
    {
      "cell_type": "code",
      "execution_count": null,
      "id": "91bc90cd",
      "metadata": {
        "id": "91bc90cd"
      },
      "outputs": [],
      "source": [
        "random_array = np.random.randint(0, 99, size = (5, 5))\n",
        "random_array"
      ]
    },
    {
      "cell_type": "code",
      "execution_count": null,
      "id": "1406a9b4",
      "metadata": {
        "id": "1406a9b4"
      },
      "outputs": [],
      "source": [
        "random_array.size"
      ]
    },
    {
      "cell_type": "code",
      "execution_count": null,
      "id": "aa9ae579",
      "metadata": {
        "id": "aa9ae579"
      },
      "outputs": [],
      "source": [
        "random_array.shape"
      ]
    },
    {
      "cell_type": "code",
      "execution_count": null,
      "id": "a6d58880",
      "metadata": {
        "id": "a6d58880"
      },
      "outputs": [],
      "source": [
        "rand_array2 = np.random.random((4,2))\n",
        "rand_array2"
      ]
    },
    {
      "cell_type": "code",
      "execution_count": null,
      "id": "2dd92aaa",
      "metadata": {
        "id": "2dd92aaa"
      },
      "outputs": [],
      "source": [
        "rand_array2.shape"
      ]
    },
    {
      "cell_type": "code",
      "execution_count": null,
      "id": "c62338c2",
      "metadata": {
        "id": "c62338c2"
      },
      "outputs": [],
      "source": [
        "rand_array2.size"
      ]
    },
    {
      "cell_type": "code",
      "execution_count": null,
      "id": "6c1600d1",
      "metadata": {
        "id": "6c1600d1"
      },
      "outputs": [],
      "source": [
        "rand_array3 = np.random.rand(5,3) # When NumPy genrates random numbers they're actually psudo random numbers\n",
        "rand_array3"
      ]
    },
    {
      "cell_type": "code",
      "execution_count": null,
      "id": "59ccfafb",
      "metadata": {
        "id": "59ccfafb"
      },
      "outputs": [],
      "source": [
        "# When NumPy genrates random numbers they're actually psudo random numbers\n",
        "# Psudo-random numbers\n",
        "np.random.seed(99999) # to get same random no always\n",
        "rand4 = np.random.randint(10, size=(5, 3))\n",
        "rand4"
      ]
    },
    {
      "cell_type": "code",
      "execution_count": null,
      "id": "99a245ef",
      "metadata": {
        "id": "99a245ef"
      },
      "outputs": [],
      "source": [
        " rand4.shape"
      ]
    },
    {
      "cell_type": "markdown",
      "id": "734c99a0",
      "metadata": {
        "id": "734c99a0"
      },
      "source": [
        "## 3. Different ways to Viewing arrays and matrices"
      ]
    },
    {
      "cell_type": "code",
      "execution_count": null,
      "id": "372b6268",
      "metadata": {
        "id": "372b6268"
      },
      "outputs": [],
      "source": [
        "np.unique(rand4)"
      ]
    },
    {
      "cell_type": "code",
      "execution_count": null,
      "id": "b6654e8c",
      "metadata": {
        "id": "b6654e8c"
      },
      "outputs": [],
      "source": [
        "a1"
      ]
    },
    {
      "cell_type": "code",
      "execution_count": null,
      "id": "432c4c1b",
      "metadata": {
        "id": "432c4c1b"
      },
      "outputs": [],
      "source": [
        "a2"
      ]
    },
    {
      "cell_type": "code",
      "execution_count": null,
      "id": "2696d2b2",
      "metadata": {
        "id": "2696d2b2"
      },
      "outputs": [],
      "source": [
        "a3"
      ]
    },
    {
      "cell_type": "code",
      "execution_count": null,
      "id": "267422d2",
      "metadata": {
        "id": "267422d2"
      },
      "outputs": [],
      "source": [
        "a3[1]"
      ]
    },
    {
      "cell_type": "code",
      "execution_count": null,
      "id": "f2af4dab",
      "metadata": {
        "id": "f2af4dab"
      },
      "outputs": [],
      "source": [
        "a2[1]"
      ]
    },
    {
      "cell_type": "code",
      "execution_count": null,
      "id": "2e1c0e2e",
      "metadata": {
        "id": "2e1c0e2e"
      },
      "outputs": [],
      "source": [
        "a3[:2, :2, :2]"
      ]
    },
    {
      "cell_type": "code",
      "execution_count": null,
      "id": "f2a46db5",
      "metadata": {
        "id": "f2a46db5"
      },
      "outputs": [],
      "source": [
        "a4 = np.random.randint(10, size = (2, 3, 4, 5))\n",
        "a4"
      ]
    },
    {
      "cell_type": "code",
      "execution_count": null,
      "id": "4f8c08da",
      "metadata": {
        "id": "4f8c08da"
      },
      "outputs": [],
      "source": [
        "a4.shape"
      ]
    },
    {
      "cell_type": "code",
      "execution_count": null,
      "id": "2e04db87",
      "metadata": {
        "id": "2e04db87"
      },
      "outputs": [],
      "source": [
        "a4.ndim"
      ]
    },
    {
      "cell_type": "code",
      "execution_count": null,
      "id": "90b18119",
      "metadata": {
        "id": "90b18119"
      },
      "outputs": [],
      "source": [
        "a4[:, :, :, :1]"
      ]
    },
    {
      "cell_type": "markdown",
      "id": "70c60934",
      "metadata": {
        "id": "70c60934"
      },
      "source": [
        "## 4. Manipulating & comparing arrays"
      ]
    },
    {
      "cell_type": "markdown",
      "id": "53d2f376",
      "metadata": {
        "id": "53d2f376"
      },
      "source": [
        "### Arithmatic"
      ]
    },
    {
      "cell_type": "code",
      "execution_count": null,
      "id": "4fe57d5d",
      "metadata": {
        "id": "4fe57d5d"
      },
      "outputs": [],
      "source": [
        "a1"
      ]
    },
    {
      "cell_type": "code",
      "execution_count": null,
      "id": "585d6e1f",
      "metadata": {
        "id": "585d6e1f"
      },
      "outputs": [],
      "source": [
        "ones = np.ones(3)\n",
        "ones"
      ]
    },
    {
      "cell_type": "code",
      "execution_count": null,
      "id": "a1bdad75",
      "metadata": {
        "id": "a1bdad75"
      },
      "outputs": [],
      "source": [
        "a1 + ones"
      ]
    },
    {
      "cell_type": "code",
      "execution_count": null,
      "id": "e7be4956",
      "metadata": {
        "id": "e7be4956"
      },
      "outputs": [],
      "source": [
        "a1 - ones"
      ]
    },
    {
      "cell_type": "code",
      "execution_count": null,
      "id": "de073174",
      "metadata": {
        "id": "de073174"
      },
      "outputs": [],
      "source": [
        "a1 * ones"
      ]
    },
    {
      "cell_type": "code",
      "execution_count": null,
      "id": "ecb53bb5",
      "metadata": {
        "id": "ecb53bb5"
      },
      "outputs": [],
      "source": [
        "a2"
      ]
    },
    {
      "cell_type": "code",
      "execution_count": null,
      "id": "06e98cd8",
      "metadata": {
        "id": "06e98cd8"
      },
      "outputs": [],
      "source": [
        "a1 * a2"
      ]
    },
    {
      "cell_type": "code",
      "execution_count": null,
      "id": "f2ff0ca8",
      "metadata": {
        "id": "f2ff0ca8"
      },
      "outputs": [],
      "source": [
        "a2"
      ]
    },
    {
      "cell_type": "code",
      "execution_count": null,
      "id": "0c2c6c92",
      "metadata": {
        "id": "0c2c6c92"
      },
      "outputs": [],
      "source": [
        "a3"
      ]
    },
    {
      "cell_type": "code",
      "execution_count": null,
      "id": "ac9113c8",
      "metadata": {
        "id": "ac9113c8"
      },
      "outputs": [],
      "source": [
        "# a2 * a3 error "
      ]
    },
    {
      "cell_type": "code",
      "execution_count": null,
      "id": "0d8c0da8",
      "metadata": {
        "id": "0d8c0da8"
      },
      "outputs": [],
      "source": [
        "a2**2"
      ]
    },
    {
      "cell_type": "code",
      "execution_count": null,
      "id": "fe903866",
      "metadata": {
        "id": "fe903866"
      },
      "outputs": [],
      "source": [
        "np.exp(a1)"
      ]
    },
    {
      "cell_type": "code",
      "execution_count": null,
      "id": "8614ecdb",
      "metadata": {
        "id": "8614ecdb"
      },
      "outputs": [],
      "source": [
        "np.log(a1)"
      ]
    },
    {
      "cell_type": "markdown",
      "id": "cf906778",
      "metadata": {
        "id": "cf906778"
      },
      "source": [
        "### Aggregation\n",
        "\n",
        "Aggregation = preforming the same opration on a number of things"
      ]
    },
    {
      "cell_type": "code",
      "execution_count": null,
      "id": "a6d6ae4f",
      "metadata": {
        "id": "a6d6ae4f"
      },
      "outputs": [],
      "source": [
        "l = [1, 2, 3]\n",
        "type(l)"
      ]
    },
    {
      "cell_type": "code",
      "execution_count": null,
      "id": "66a4ad8b",
      "metadata": {
        "id": "66a4ad8b"
      },
      "outputs": [],
      "source": [
        "sum(l)"
      ]
    },
    {
      "cell_type": "code",
      "execution_count": null,
      "id": "41c810a3",
      "metadata": {
        "id": "41c810a3"
      },
      "outputs": [],
      "source": [
        "a1"
      ]
    },
    {
      "cell_type": "code",
      "execution_count": null,
      "id": "2e1ac0d2",
      "metadata": {
        "id": "2e1ac0d2"
      },
      "outputs": [],
      "source": [
        "type(a1)"
      ]
    },
    {
      "cell_type": "code",
      "execution_count": null,
      "id": "d4012a41",
      "metadata": {
        "id": "d4012a41"
      },
      "outputs": [],
      "source": [
        "np.sum(a1)"
      ]
    },
    {
      "cell_type": "code",
      "execution_count": null,
      "id": "9ded5b69",
      "metadata": {
        "id": "9ded5b69"
      },
      "outputs": [],
      "source": [
        "sum(a1)"
      ]
    },
    {
      "cell_type": "markdown",
      "id": "99e810d2",
      "metadata": {
        "id": "99e810d2"
      },
      "source": [
        "## Use Python's methond (sum()) on Python datatypes and \n",
        "\n",
        "## use NumPy's Method (np.sum()) on NumPy arrays"
      ]
    },
    {
      "cell_type": "code",
      "execution_count": null,
      "id": "800d265c",
      "metadata": {
        "id": "800d265c"
      },
      "outputs": [],
      "source": [
        "# Create a massive NumPy array\n",
        "mass_array = np.random.random(100000)\n",
        "mass_array.size"
      ]
    },
    {
      "cell_type": "code",
      "execution_count": null,
      "id": "5a73e58d",
      "metadata": {
        "id": "5a73e58d"
      },
      "outputs": [],
      "source": [
        "mass_array[:10]"
      ]
    },
    {
      "cell_type": "code",
      "execution_count": null,
      "id": "c26314c7",
      "metadata": {
        "id": "c26314c7"
      },
      "outputs": [],
      "source": [
        "%timeit sum(mass_array) # py sum()\n",
        "%timeit np.sum(mass_array) # np sum()"
      ]
    },
    {
      "cell_type": "code",
      "execution_count": null,
      "id": "8899454e",
      "metadata": {
        "id": "8899454e"
      },
      "outputs": [],
      "source": [
        "a2"
      ]
    },
    {
      "cell_type": "code",
      "execution_count": null,
      "id": "d54e7ce7",
      "metadata": {
        "id": "d54e7ce7"
      },
      "outputs": [],
      "source": [
        "np.mean(a2)"
      ]
    },
    {
      "cell_type": "code",
      "execution_count": null,
      "id": "c9b76cb5",
      "metadata": {
        "id": "c9b76cb5"
      },
      "outputs": [],
      "source": [
        "np.max(a2)"
      ]
    },
    {
      "cell_type": "code",
      "execution_count": null,
      "id": "92b311ac",
      "metadata": {
        "id": "92b311ac"
      },
      "outputs": [],
      "source": [
        "np.min(a2)"
      ]
    },
    {
      "cell_type": "code",
      "execution_count": null,
      "id": "8922a6be",
      "metadata": {
        "id": "8922a6be"
      },
      "outputs": [],
      "source": [
        "# Standard deviation = a measure of how spread out a group of numbers is from the mean\n",
        "np.std(a2)"
      ]
    },
    {
      "cell_type": "code",
      "execution_count": null,
      "id": "95fcef0a",
      "metadata": {
        "id": "95fcef0a"
      },
      "outputs": [],
      "source": [
        "# Variance = measure of the average degree to which each number is different to the mean\n",
        "# Higher variance = wider range of numbers\n",
        "# Lower variance = lower range of numbers\n",
        "np.var(a2)"
      ]
    },
    {
      "cell_type": "code",
      "execution_count": null,
      "id": "96326425",
      "metadata": {
        "id": "96326425"
      },
      "outputs": [],
      "source": [
        "# Standard deviation = squareroot of variance\n",
        "np.sqrt(np.var(a2))"
      ]
    },
    {
      "cell_type": "code",
      "execution_count": null,
      "id": "d575338c",
      "metadata": {
        "id": "d575338c"
      },
      "outputs": [],
      "source": [
        "# Demo of std and var\n",
        "high_var_array = np.array([1, 100, 200, 300, 4000, 5000])\n",
        "low_var_array = np.array([2, 4, 6, 8, 10])"
      ]
    },
    {
      "cell_type": "code",
      "execution_count": null,
      "id": "3b3fec66",
      "metadata": {
        "id": "3b3fec66"
      },
      "outputs": [],
      "source": [
        "np.var(high_var_array), np.var(low_var_array)"
      ]
    },
    {
      "cell_type": "code",
      "execution_count": null,
      "id": "3d3b48c1",
      "metadata": {
        "id": "3d3b48c1"
      },
      "outputs": [],
      "source": [
        "np.std(high_var_array), np.std(low_var_array)"
      ]
    },
    {
      "cell_type": "code",
      "execution_count": null,
      "id": "ccf33b8a",
      "metadata": {
        "id": "ccf33b8a"
      },
      "outputs": [],
      "source": [
        "np.mean(high_var_array), np.mean(low_var_array)"
      ]
    },
    {
      "cell_type": "code",
      "execution_count": null,
      "id": "710856e6",
      "metadata": {
        "id": "710856e6"
      },
      "outputs": [],
      "source": [
        "%matplotlib inline\n",
        "plt.hist(high_var_array)\n",
        "plt.show()"
      ]
    },
    {
      "cell_type": "markdown",
      "id": "116d6162",
      "metadata": {
        "id": "116d6162"
      },
      "source": [
        "## Reshaping & transposing "
      ]
    },
    {
      "cell_type": "code",
      "execution_count": null,
      "id": "32a1c79b",
      "metadata": {
        "id": "32a1c79b",
        "outputId": "7561658b-e9f2-448a-8a87-8cd1e87b7d45"
      },
      "outputs": [
        {
          "data": {
            "text/plain": [
              "array([[1. , 2. , 3.3],\n",
              "       [4. , 5. , 6.5]])"
            ]
          },
          "execution_count": 19,
          "metadata": {},
          "output_type": "execute_result"
        }
      ],
      "source": [
        "a2"
      ]
    },
    {
      "cell_type": "code",
      "execution_count": null,
      "id": "3d604fd5",
      "metadata": {
        "id": "3d604fd5",
        "outputId": "2eefdaeb-2bf1-4a9b-ec3d-9cac2bf5ba5b"
      },
      "outputs": [
        {
          "data": {
            "text/plain": [
              "(2, 3)"
            ]
          },
          "execution_count": 20,
          "metadata": {},
          "output_type": "execute_result"
        }
      ],
      "source": [
        "a2.shape"
      ]
    },
    {
      "cell_type": "code",
      "execution_count": null,
      "id": "756e90ac",
      "metadata": {
        "id": "756e90ac",
        "outputId": "342278c3-e354-4f4e-c916-cee4a68c475a"
      },
      "outputs": [
        {
          "data": {
            "text/plain": [
              "array([[[ 1,  2,  3],\n",
              "        [ 4,  5,  6],\n",
              "        [ 7,  8,  9]],\n",
              "\n",
              "       [[10, 11, 12],\n",
              "        [13, 14, 15],\n",
              "        [16, 17, 18]]])"
            ]
          },
          "execution_count": 21,
          "metadata": {},
          "output_type": "execute_result"
        }
      ],
      "source": [
        "a3"
      ]
    },
    {
      "cell_type": "code",
      "execution_count": null,
      "id": "06cce952",
      "metadata": {
        "id": "06cce952",
        "outputId": "61a27d55-dc3a-44b3-9b4a-6107bb15df4a"
      },
      "outputs": [
        {
          "ename": "ValueError",
          "evalue": "operands could not be broadcast together with shapes (2,3) (2,3,3) ",
          "output_type": "error",
          "traceback": [
            "\u001b[1;31m---------------------------------------------------------------------------\u001b[0m",
            "\u001b[1;31mValueError\u001b[0m                                Traceback (most recent call last)",
            "Cell \u001b[1;32mIn[22], line 1\u001b[0m\n\u001b[1;32m----> 1\u001b[0m \u001b[43ma2\u001b[49m\u001b[43m \u001b[49m\u001b[38;5;241;43m*\u001b[39;49m\u001b[43m \u001b[49m\u001b[43ma3\u001b[49m\n",
            "\u001b[1;31mValueError\u001b[0m: operands could not be broadcast together with shapes (2,3) (2,3,3) "
          ]
        }
      ],
      "source": [
        "# a2 * a3    error "
      ]
    },
    {
      "cell_type": "code",
      "execution_count": null,
      "id": "5376f87d",
      "metadata": {
        "id": "5376f87d",
        "outputId": "4c0a8fb3-bd39-4cc3-96b7-64dd1c8f21e1"
      },
      "outputs": [
        {
          "data": {
            "text/plain": [
              "array([[[1. ],\n",
              "        [2. ],\n",
              "        [3.3]],\n",
              "\n",
              "       [[4. ],\n",
              "        [5. ],\n",
              "        [6.5]]])"
            ]
          },
          "execution_count": 23,
          "metadata": {},
          "output_type": "execute_result"
        }
      ],
      "source": [
        "# Reshape\n",
        "a2.reshape(2, 3, 1)"
      ]
    },
    {
      "cell_type": "code",
      "execution_count": null,
      "id": "2f08213b",
      "metadata": {
        "id": "2f08213b",
        "outputId": "fa56bc79-4948-469f-e39d-1bcf228258a3"
      },
      "outputs": [
        {
          "data": {
            "text/plain": [
              "(2, 3, 3)"
            ]
          },
          "execution_count": 24,
          "metadata": {},
          "output_type": "execute_result"
        }
      ],
      "source": [
        "a3.shape"
      ]
    },
    {
      "cell_type": "code",
      "execution_count": null,
      "id": "74242b9e",
      "metadata": {
        "id": "74242b9e",
        "outputId": "070508a4-8045-4f88-f1e0-0034d048a628"
      },
      "outputs": [
        {
          "data": {
            "text/plain": [
              "array([[[1. ],\n",
              "        [2. ],\n",
              "        [3.3]],\n",
              "\n",
              "       [[4. ],\n",
              "        [5. ],\n",
              "        [6.5]]])"
            ]
          },
          "execution_count": 25,
          "metadata": {},
          "output_type": "execute_result"
        }
      ],
      "source": [
        "a2_reshape = a2.reshape(2, 3, 1)\n",
        "a2_reshape"
      ]
    },
    {
      "cell_type": "code",
      "execution_count": null,
      "id": "ef733170",
      "metadata": {
        "id": "ef733170",
        "outputId": "915e6f3c-4fc4-4755-d3dd-96da9b302252"
      },
      "outputs": [
        {
          "data": {
            "text/plain": [
              "array([[[  1. ,   2. ,   3. ],\n",
              "        [  8. ,  10. ,  12. ],\n",
              "        [ 23.1,  26.4,  29.7]],\n",
              "\n",
              "       [[ 40. ,  44. ,  48. ],\n",
              "        [ 65. ,  70. ,  75. ],\n",
              "        [104. , 110.5, 117. ]]])"
            ]
          },
          "execution_count": 26,
          "metadata": {},
          "output_type": "execute_result"
        }
      ],
      "source": [
        "a2_reshape * a3"
      ]
    },
    {
      "cell_type": "code",
      "execution_count": null,
      "id": "baa494e3",
      "metadata": {
        "id": "baa494e3",
        "outputId": "8d64fbb8-54bf-4667-fd43-331d9e42eac0"
      },
      "outputs": [
        {
          "data": {
            "text/plain": [
              "array([[1. , 4. ],\n",
              "       [2. , 5. ],\n",
              "       [3.3, 6.5]])"
            ]
          },
          "execution_count": 27,
          "metadata": {},
          "output_type": "execute_result"
        }
      ],
      "source": [
        "# Transpose\n",
        "a2.T"
      ]
    },
    {
      "cell_type": "code",
      "execution_count": null,
      "id": "0183adc7",
      "metadata": {
        "id": "0183adc7",
        "outputId": "fb1117a3-b52d-410d-9519-080771a2aee7"
      },
      "outputs": [
        {
          "data": {
            "text/plain": [
              "array([[1. , 2. , 3.3],\n",
              "       [4. , 5. , 6.5]])"
            ]
          },
          "execution_count": 28,
          "metadata": {},
          "output_type": "execute_result"
        }
      ],
      "source": [
        "a2"
      ]
    },
    {
      "cell_type": "code",
      "execution_count": null,
      "id": "98098167",
      "metadata": {
        "id": "98098167",
        "outputId": "0ec29200-3696-4c12-e938-cf09806b9bd0"
      },
      "outputs": [
        {
          "data": {
            "text/plain": [
              "(2, 3, 3)"
            ]
          },
          "execution_count": 29,
          "metadata": {},
          "output_type": "execute_result"
        }
      ],
      "source": [
        "a3.shape"
      ]
    },
    {
      "cell_type": "code",
      "execution_count": null,
      "id": "6bf497dc",
      "metadata": {
        "id": "6bf497dc",
        "outputId": "72b483eb-05e9-4ed2-8389-106cfdc894c2"
      },
      "outputs": [
        {
          "data": {
            "text/plain": [
              "array([[[ 1, 10],\n",
              "        [ 4, 13],\n",
              "        [ 7, 16]],\n",
              "\n",
              "       [[ 2, 11],\n",
              "        [ 5, 14],\n",
              "        [ 8, 17]],\n",
              "\n",
              "       [[ 3, 12],\n",
              "        [ 6, 15],\n",
              "        [ 9, 18]]])"
            ]
          },
          "execution_count": 30,
          "metadata": {},
          "output_type": "execute_result"
        }
      ],
      "source": [
        "a3.T"
      ]
    },
    {
      "cell_type": "code",
      "execution_count": null,
      "id": "4e2ed5ff",
      "metadata": {
        "id": "4e2ed5ff",
        "outputId": "a109c065-55dc-4a28-ba2f-22e4bec4b87d"
      },
      "outputs": [
        {
          "data": {
            "text/plain": [
              "(3, 3, 2)"
            ]
          },
          "execution_count": 31,
          "metadata": {},
          "output_type": "execute_result"
        }
      ],
      "source": [
        "a3.T.shape"
      ]
    },
    {
      "cell_type": "markdown",
      "id": "9a5d1ba2",
      "metadata": {
        "id": "9a5d1ba2"
      },
      "source": [
        "## Dot product\n"
      ]
    },
    {
      "cell_type": "code",
      "execution_count": null,
      "id": "1ff0a303",
      "metadata": {
        "id": "1ff0a303",
        "outputId": "64ac428b-a77b-4947-dfc8-45a318f6ab4b"
      },
      "outputs": [
        {
          "data": {
            "text/plain": [
              "array([[5, 0, 3],\n",
              "       [3, 7, 9],\n",
              "       [3, 5, 2],\n",
              "       [4, 7, 6],\n",
              "       [8, 8, 1]])"
            ]
          },
          "execution_count": 33,
          "metadata": {},
          "output_type": "execute_result"
        }
      ],
      "source": [
        "np.random.seed(0)\n",
        "\n",
        "mat1 = np.random.randint(10, size = (5,3))\n",
        "mat2 = np.random.randint(10, size = (5,3))\n",
        "\n",
        "mat1"
      ]
    },
    {
      "cell_type": "code",
      "execution_count": null,
      "id": "34ea770d",
      "metadata": {
        "id": "34ea770d",
        "outputId": "db888c54-3a07-45df-aa78-a2bd6e9d326b"
      },
      "outputs": [
        {
          "data": {
            "text/plain": [
              "array([[6, 7, 7],\n",
              "       [8, 1, 5],\n",
              "       [9, 8, 9],\n",
              "       [4, 3, 0],\n",
              "       [3, 5, 0]])"
            ]
          },
          "execution_count": 34,
          "metadata": {},
          "output_type": "execute_result"
        }
      ],
      "source": [
        "mat2"
      ]
    },
    {
      "cell_type": "code",
      "execution_count": null,
      "id": "91fc9921",
      "metadata": {
        "id": "91fc9921",
        "outputId": "64c78838-ae88-4e49-c107-e7b4206f9f1c"
      },
      "outputs": [
        {
          "data": {
            "text/plain": [
              "array([[30,  0, 21],\n",
              "       [24,  7, 45],\n",
              "       [27, 40, 18],\n",
              "       [16, 21,  0],\n",
              "       [24, 40,  0]])"
            ]
          },
          "execution_count": 36,
          "metadata": {},
          "output_type": "execute_result"
        }
      ],
      "source": [
        "# Element-Wise multiplication (Hadamard product)\n",
        "mat1 * mat2"
      ]
    },
    {
      "cell_type": "code",
      "execution_count": null,
      "id": "15038235",
      "metadata": {
        "id": "15038235",
        "outputId": "58482b95-c45e-49da-a617-4597191aea90"
      },
      "outputs": [
        {
          "data": {
            "text/plain": [
              "((5, 3), (3, 5))"
            ]
          },
          "execution_count": 37,
          "metadata": {},
          "output_type": "execute_result"
        }
      ],
      "source": [
        "mat1.shape, mat2.T.shape"
      ]
    },
    {
      "cell_type": "code",
      "execution_count": null,
      "id": "ab06cfa8",
      "metadata": {
        "id": "ab06cfa8",
        "outputId": "1c7016c2-db7e-455c-ca4a-c7406ed03940"
      },
      "outputs": [
        {
          "data": {
            "text/plain": [
              "array([[6, 8, 9, 4, 3],\n",
              "       [7, 1, 8, 3, 5],\n",
              "       [7, 5, 9, 0, 0]])"
            ]
          },
          "execution_count": 38,
          "metadata": {},
          "output_type": "execute_result"
        }
      ],
      "source": [
        "transpose_mat2 = mat2.T\n",
        "transpose_mat2"
      ]
    },
    {
      "cell_type": "code",
      "execution_count": null,
      "id": "658cdcfb",
      "metadata": {
        "id": "658cdcfb",
        "outputId": "8703eeb7-46d5-48e9-c0f3-e683c8c45f7b"
      },
      "outputs": [
        {
          "data": {
            "text/plain": [
              "array([[ 51,  55,  72,  20,  15],\n",
              "       [130,  76, 164,  33,  44],\n",
              "       [ 67,  39,  85,  27,  34],\n",
              "       [115,  69, 146,  37,  47],\n",
              "       [111,  77, 145,  56,  64]])"
            ]
          },
          "execution_count": 39,
          "metadata": {},
          "output_type": "execute_result"
        }
      ],
      "source": [
        "mat3 = np.dot(mat1,transpose_mat2)\n",
        "mat3"
      ]
    },
    {
      "cell_type": "code",
      "execution_count": null,
      "id": "d0f3fd16",
      "metadata": {
        "id": "d0f3fd16",
        "outputId": "e5f0c61a-e947-4a8e-b4fa-dac1adc2e7f8"
      },
      "outputs": [
        {
          "data": {
            "text/plain": [
              "(5, 5)"
            ]
          },
          "execution_count": 40,
          "metadata": {},
          "output_type": "execute_result"
        }
      ],
      "source": [
        "mat3.shape"
      ]
    },
    {
      "cell_type": "markdown",
      "id": "4c6b1de9",
      "metadata": {
        "id": "4c6b1de9"
      },
      "source": [
        "## Dot product example (nut butter sales)"
      ]
    },
    {
      "cell_type": "code",
      "execution_count": null,
      "id": "67680df9",
      "metadata": {
        "id": "67680df9",
        "outputId": "b059ad77-0892-4629-fe7e-fb1162142b47"
      },
      "outputs": [
        {
          "data": {
            "text/plain": [
              "array([[12, 15,  0],\n",
              "       [ 3,  3,  7],\n",
              "       [ 9, 19, 18],\n",
              "       [ 4,  6, 12],\n",
              "       [ 1,  6,  7]])"
            ]
          },
          "execution_count": 41,
          "metadata": {},
          "output_type": "execute_result"
        }
      ],
      "source": [
        "np.random.seed(0)\n",
        "# Number of jars sold\n",
        "sales_amounts = np.random.randint(20, size=(5,3))\n",
        "sales_amounts"
      ]
    },
    {
      "cell_type": "code",
      "execution_count": null,
      "id": "b4f4c856",
      "metadata": {
        "id": "b4f4c856",
        "outputId": "fd44c223-6eac-4415-d179-39232629feef"
      },
      "outputs": [
        {
          "data": {
            "text/html": [
              "<div>\n",
              "<style scoped>\n",
              "    .dataframe tbody tr th:only-of-type {\n",
              "        vertical-align: middle;\n",
              "    }\n",
              "\n",
              "    .dataframe tbody tr th {\n",
              "        vertical-align: top;\n",
              "    }\n",
              "\n",
              "    .dataframe thead th {\n",
              "        text-align: right;\n",
              "    }\n",
              "</style>\n",
              "<table border=\"1\" class=\"dataframe\">\n",
              "  <thead>\n",
              "    <tr style=\"text-align: right;\">\n",
              "      <th></th>\n",
              "      <th>Almond butter</th>\n",
              "      <th>Peanut butter</th>\n",
              "      <th>Cashew butter</th>\n",
              "    </tr>\n",
              "  </thead>\n",
              "  <tbody>\n",
              "    <tr>\n",
              "      <th>Mon</th>\n",
              "      <td>12</td>\n",
              "      <td>15</td>\n",
              "      <td>0</td>\n",
              "    </tr>\n",
              "    <tr>\n",
              "      <th>Tues</th>\n",
              "      <td>3</td>\n",
              "      <td>3</td>\n",
              "      <td>7</td>\n",
              "    </tr>\n",
              "    <tr>\n",
              "      <th>Wed</th>\n",
              "      <td>9</td>\n",
              "      <td>19</td>\n",
              "      <td>18</td>\n",
              "    </tr>\n",
              "    <tr>\n",
              "      <th>Thurs</th>\n",
              "      <td>4</td>\n",
              "      <td>6</td>\n",
              "      <td>12</td>\n",
              "    </tr>\n",
              "    <tr>\n",
              "      <th>Fri</th>\n",
              "      <td>1</td>\n",
              "      <td>6</td>\n",
              "      <td>7</td>\n",
              "    </tr>\n",
              "  </tbody>\n",
              "</table>\n",
              "</div>"
            ],
            "text/plain": [
              "       Almond butter  Peanut butter  Cashew butter\n",
              "Mon               12             15              0\n",
              "Tues               3              3              7\n",
              "Wed                9             19             18\n",
              "Thurs              4              6             12\n",
              "Fri                1              6              7"
            ]
          },
          "execution_count": 42,
          "metadata": {},
          "output_type": "execute_result"
        }
      ],
      "source": [
        "# Create weekly_sales DataFrame\n",
        "weekly_sales = pd.DataFrame(sales_amounts,\n",
        "                            index=[\"Mon\", \"Tues\", \"Wed\", \"Thurs\", \"Fri\"],\n",
        "                            columns=[\"Almond butter\", \"Peanut butter\", \"Cashew butter\"])\n",
        "weekly_sales"
      ]
    },
    {
      "cell_type": "code",
      "execution_count": null,
      "id": "725ce271",
      "metadata": {
        "id": "725ce271",
        "outputId": "83611adf-3cb2-4b46-bab1-b4d6da4c4b17"
      },
      "outputs": [
        {
          "data": {
            "text/plain": [
              "array([10,  8, 12])"
            ]
          },
          "execution_count": 43,
          "metadata": {},
          "output_type": "execute_result"
        }
      ],
      "source": [
        "# Create prices array\n",
        "prices = np.array([10, 8, 12])\n",
        "prices"
      ]
    },
    {
      "cell_type": "code",
      "execution_count": null,
      "id": "89557d6b",
      "metadata": {
        "id": "89557d6b",
        "outputId": "5ed8d514-3a35-4237-bf3d-41864c0ff5c8"
      },
      "outputs": [
        {
          "data": {
            "text/plain": [
              "(3,)"
            ]
          },
          "execution_count": 44,
          "metadata": {},
          "output_type": "execute_result"
        }
      ],
      "source": [
        "prices.shape"
      ]
    },
    {
      "cell_type": "code",
      "execution_count": null,
      "id": "67642a63",
      "metadata": {
        "id": "67642a63",
        "outputId": "abe672e7-63c0-4a53-e6ea-49db718c71a5"
      },
      "outputs": [
        {
          "data": {
            "text/html": [
              "<div>\n",
              "<style scoped>\n",
              "    .dataframe tbody tr th:only-of-type {\n",
              "        vertical-align: middle;\n",
              "    }\n",
              "\n",
              "    .dataframe tbody tr th {\n",
              "        vertical-align: top;\n",
              "    }\n",
              "\n",
              "    .dataframe thead th {\n",
              "        text-align: right;\n",
              "    }\n",
              "</style>\n",
              "<table border=\"1\" class=\"dataframe\">\n",
              "  <thead>\n",
              "    <tr style=\"text-align: right;\">\n",
              "      <th></th>\n",
              "      <th>Almond butter</th>\n",
              "      <th>Peanut butter</th>\n",
              "      <th>Cashew butter</th>\n",
              "    </tr>\n",
              "  </thead>\n",
              "  <tbody>\n",
              "    <tr>\n",
              "      <th>Price</th>\n",
              "      <td>10</td>\n",
              "      <td>8</td>\n",
              "      <td>12</td>\n",
              "    </tr>\n",
              "  </tbody>\n",
              "</table>\n",
              "</div>"
            ],
            "text/plain": [
              "       Almond butter  Peanut butter  Cashew butter\n",
              "Price             10              8             12"
            ]
          },
          "execution_count": 45,
          "metadata": {},
          "output_type": "execute_result"
        }
      ],
      "source": [
        "# Create butter_prices DataFrame\n",
        "butter_prices = pd.DataFrame(prices.reshape(1, 3),\n",
        "                             index=[\"Price\"],\n",
        "                             columns=[\"Almond butter\", \"Peanut butter\", \"Cashew butter\"])\n",
        "butter_prices"
      ]
    },
    {
      "cell_type": "code",
      "execution_count": null,
      "id": "ffae0937",
      "metadata": {
        "id": "ffae0937",
        "outputId": "d903fde1-8d4d-4597-cab9-8256682da3cc"
      },
      "outputs": [
        {
          "data": {
            "text/plain": [
              "(3,)"
            ]
          },
          "execution_count": 46,
          "metadata": {},
          "output_type": "execute_result"
        }
      ],
      "source": [
        "prices.shape"
      ]
    },
    {
      "cell_type": "code",
      "execution_count": null,
      "id": "ea729fb7",
      "metadata": {
        "id": "ea729fb7",
        "outputId": "4acd1762-ee65-45d8-eb68-52f7dbb6ebfc"
      },
      "outputs": [
        {
          "data": {
            "text/plain": [
              "(5, 3)"
            ]
          },
          "execution_count": 47,
          "metadata": {},
          "output_type": "execute_result"
        }
      ],
      "source": [
        "sales_amounts.shape"
      ]
    },
    {
      "cell_type": "code",
      "execution_count": null,
      "id": "63736a71",
      "metadata": {
        "id": "63736a71"
      },
      "outputs": [],
      "source": [
        "# total_sales = prices.dot(sales_amounts) error"
      ]
    },
    {
      "cell_type": "code",
      "execution_count": null,
      "id": "1808111e",
      "metadata": {
        "id": "1808111e",
        "outputId": "b55df129-c6ce-4d84-b541-2de77b381b95"
      },
      "outputs": [
        {
          "data": {
            "text/plain": [
              "array([240, 138, 458, 232, 142])"
            ]
          },
          "execution_count": 49,
          "metadata": {},
          "output_type": "execute_result"
        }
      ],
      "source": [
        "# Shape aren't aligned, let's transpose\n",
        "total_sales = prices.dot(sales_amounts.T)\n",
        "total_sales"
      ]
    },
    {
      "cell_type": "code",
      "execution_count": null,
      "id": "19e75f29",
      "metadata": {
        "id": "19e75f29",
        "outputId": "4ceea3ec-1f87-46b2-bb03-484e35337dd5"
      },
      "outputs": [
        {
          "data": {
            "text/plain": [
              "((1, 3), (5, 3))"
            ]
          },
          "execution_count": 50,
          "metadata": {},
          "output_type": "execute_result"
        }
      ],
      "source": [
        "# Create daily_sales\n",
        "butter_prices.shape, weekly_sales.shape"
      ]
    },
    {
      "cell_type": "code",
      "execution_count": null,
      "id": "51a322f5",
      "metadata": {
        "id": "51a322f5",
        "outputId": "b7c91d74-a447-4f6a-d615-5bfacd0bad3a"
      },
      "outputs": [
        {
          "data": {
            "text/plain": [
              "(3, 5)"
            ]
          },
          "execution_count": 51,
          "metadata": {},
          "output_type": "execute_result"
        }
      ],
      "source": [
        "weekly_sales.T.shape"
      ]
    },
    {
      "cell_type": "code",
      "execution_count": null,
      "id": "2dfeb483",
      "metadata": {
        "id": "2dfeb483",
        "outputId": "885cc1c9-0e3a-474c-bd3b-5853743610b0"
      },
      "outputs": [
        {
          "data": {
            "text/html": [
              "<div>\n",
              "<style scoped>\n",
              "    .dataframe tbody tr th:only-of-type {\n",
              "        vertical-align: middle;\n",
              "    }\n",
              "\n",
              "    .dataframe tbody tr th {\n",
              "        vertical-align: top;\n",
              "    }\n",
              "\n",
              "    .dataframe thead th {\n",
              "        text-align: right;\n",
              "    }\n",
              "</style>\n",
              "<table border=\"1\" class=\"dataframe\">\n",
              "  <thead>\n",
              "    <tr style=\"text-align: right;\">\n",
              "      <th></th>\n",
              "      <th>Almond butter</th>\n",
              "      <th>Peanut butter</th>\n",
              "      <th>Cashew butter</th>\n",
              "    </tr>\n",
              "  </thead>\n",
              "  <tbody>\n",
              "    <tr>\n",
              "      <th>Mon</th>\n",
              "      <td>12</td>\n",
              "      <td>15</td>\n",
              "      <td>0</td>\n",
              "    </tr>\n",
              "    <tr>\n",
              "      <th>Tues</th>\n",
              "      <td>3</td>\n",
              "      <td>3</td>\n",
              "      <td>7</td>\n",
              "    </tr>\n",
              "    <tr>\n",
              "      <th>Wed</th>\n",
              "      <td>9</td>\n",
              "      <td>19</td>\n",
              "      <td>18</td>\n",
              "    </tr>\n",
              "    <tr>\n",
              "      <th>Thurs</th>\n",
              "      <td>4</td>\n",
              "      <td>6</td>\n",
              "      <td>12</td>\n",
              "    </tr>\n",
              "    <tr>\n",
              "      <th>Fri</th>\n",
              "      <td>1</td>\n",
              "      <td>6</td>\n",
              "      <td>7</td>\n",
              "    </tr>\n",
              "  </tbody>\n",
              "</table>\n",
              "</div>"
            ],
            "text/plain": [
              "       Almond butter  Peanut butter  Cashew butter\n",
              "Mon               12             15              0\n",
              "Tues               3              3              7\n",
              "Wed                9             19             18\n",
              "Thurs              4              6             12\n",
              "Fri                1              6              7"
            ]
          },
          "execution_count": 52,
          "metadata": {},
          "output_type": "execute_result"
        }
      ],
      "source": [
        "weekly_sales"
      ]
    },
    {
      "cell_type": "code",
      "execution_count": null,
      "id": "595b69bd",
      "metadata": {
        "id": "595b69bd",
        "outputId": "35e2980f-683a-4f27-d931-e948ba4ad5f7"
      },
      "outputs": [
        {
          "data": {
            "text/plain": [
              "(1, 5)"
            ]
          },
          "execution_count": 53,
          "metadata": {},
          "output_type": "execute_result"
        }
      ],
      "source": [
        "daily_sales = butter_prices.dot(weekly_sales.T)\n",
        "daily_sales.shape"
      ]
    },
    {
      "cell_type": "code",
      "execution_count": null,
      "id": "c54d1a20",
      "metadata": {
        "id": "c54d1a20",
        "outputId": "85686480-48fb-46cd-df3e-4e44199540dd"
      },
      "outputs": [
        {
          "data": {
            "text/plain": [
              "(5, 3)"
            ]
          },
          "execution_count": 54,
          "metadata": {},
          "output_type": "execute_result"
        }
      ],
      "source": [
        "weekly_sales.shape"
      ]
    },
    {
      "cell_type": "markdown",
      "id": "6858074f",
      "metadata": {
        "id": "6858074f"
      },
      "source": [
        "### Comparison Operators"
      ]
    },
    {
      "cell_type": "code",
      "execution_count": null,
      "id": "28571712",
      "metadata": {
        "id": "28571712",
        "outputId": "2c291257-143f-4d16-fbb0-ed0d581e797b"
      },
      "outputs": [
        {
          "data": {
            "text/plain": [
              "array([1, 2, 3])"
            ]
          },
          "execution_count": 55,
          "metadata": {},
          "output_type": "execute_result"
        }
      ],
      "source": [
        "a1"
      ]
    },
    {
      "cell_type": "code",
      "execution_count": null,
      "id": "24b493bf",
      "metadata": {
        "id": "24b493bf",
        "outputId": "6551785d-7010-45a3-c137-0b4b3cf8bd72"
      },
      "outputs": [
        {
          "data": {
            "text/plain": [
              "array([[1. , 2. , 3.3],\n",
              "       [4. , 5. , 6.5]])"
            ]
          },
          "execution_count": 56,
          "metadata": {},
          "output_type": "execute_result"
        }
      ],
      "source": [
        "a2"
      ]
    },
    {
      "cell_type": "code",
      "execution_count": null,
      "id": "207dbdeb",
      "metadata": {
        "id": "207dbdeb",
        "outputId": "5f949cdf-8e50-47d9-957b-2d3305124fd3"
      },
      "outputs": [
        {
          "data": {
            "text/plain": [
              "array([[False, False, False],\n",
              "       [False, False, False]])"
            ]
          },
          "execution_count": 57,
          "metadata": {},
          "output_type": "execute_result"
        }
      ],
      "source": [
        "a1>a2"
      ]
    },
    {
      "cell_type": "code",
      "execution_count": null,
      "id": "327b2025",
      "metadata": {
        "id": "327b2025",
        "outputId": "40a70abe-53bb-4e08-efa9-1c449e4fc1e9"
      },
      "outputs": [
        {
          "data": {
            "text/plain": [
              "array([[ True,  True, False],\n",
              "       [False, False, False]])"
            ]
          },
          "execution_count": 59,
          "metadata": {},
          "output_type": "execute_result"
        }
      ],
      "source": [
        "bool_array = a1 >= a2\n",
        "bool_array"
      ]
    },
    {
      "cell_type": "code",
      "execution_count": null,
      "id": "50e65ef5",
      "metadata": {
        "id": "50e65ef5",
        "outputId": "c3fe4755-b65b-4170-ffd7-d540b30d2d4f"
      },
      "outputs": [
        {
          "data": {
            "text/plain": [
              "array([False, False, False])"
            ]
          },
          "execution_count": 60,
          "metadata": {},
          "output_type": "execute_result"
        }
      ],
      "source": [
        "a1 > 5"
      ]
    },
    {
      "cell_type": "code",
      "execution_count": null,
      "id": "34926d37",
      "metadata": {
        "id": "34926d37",
        "outputId": "b123337a-a54f-4b9f-cf17-8aa985762c13"
      },
      "outputs": [
        {
          "data": {
            "text/plain": [
              "array([ True,  True,  True])"
            ]
          },
          "execution_count": 61,
          "metadata": {},
          "output_type": "execute_result"
        }
      ],
      "source": [
        "a1 == a1 "
      ]
    },
    {
      "cell_type": "markdown",
      "id": "2b0add3e",
      "metadata": {
        "id": "2b0add3e"
      },
      "source": [
        "### 5. Sorting arrays"
      ]
    },
    {
      "cell_type": "code",
      "execution_count": null,
      "id": "7be08d21",
      "metadata": {
        "id": "7be08d21",
        "outputId": "f9807839-2be7-45fe-d3b7-be424d9667a6"
      },
      "outputs": [
        {
          "data": {
            "text/plain": [
              "array([[7, 8, 1, 5, 9],\n",
              "       [8, 9, 4, 3, 0],\n",
              "       [3, 5, 0, 2, 3]])"
            ]
          },
          "execution_count": 62,
          "metadata": {},
          "output_type": "execute_result"
        }
      ],
      "source": [
        "random_array = np.random.randint(10, size=(3, 5))\n",
        "random_array"
      ]
    },
    {
      "cell_type": "code",
      "execution_count": null,
      "id": "1b4a63d1",
      "metadata": {
        "id": "1b4a63d1",
        "outputId": "41689fe8-9e3c-4c6f-8f0e-5ab3319f452d"
      },
      "outputs": [
        {
          "data": {
            "text/plain": [
              "(3, 5)"
            ]
          },
          "execution_count": 63,
          "metadata": {},
          "output_type": "execute_result"
        }
      ],
      "source": [
        "random_array.shape"
      ]
    },
    {
      "cell_type": "code",
      "execution_count": null,
      "id": "631e5823",
      "metadata": {
        "id": "631e5823",
        "outputId": "0cf52571-aa90-4cb4-bea9-ee71a36486a4"
      },
      "outputs": [
        {
          "data": {
            "text/plain": [
              "array([[1, 5, 7, 8, 9],\n",
              "       [0, 3, 4, 8, 9],\n",
              "       [0, 2, 3, 3, 5]])"
            ]
          },
          "execution_count": 64,
          "metadata": {},
          "output_type": "execute_result"
        }
      ],
      "source": [
        "np.sort(random_array)"
      ]
    },
    {
      "cell_type": "code",
      "execution_count": null,
      "id": "0b81297f",
      "metadata": {
        "id": "0b81297f",
        "outputId": "b45621fb-fb35-4c56-9fec-21173c2d052b"
      },
      "outputs": [
        {
          "data": {
            "text/plain": [
              "array([[7, 8, 1, 5, 9],\n",
              "       [8, 9, 4, 3, 0],\n",
              "       [3, 5, 0, 2, 3]])"
            ]
          },
          "execution_count": 65,
          "metadata": {},
          "output_type": "execute_result"
        }
      ],
      "source": [
        "random_array"
      ]
    },
    {
      "cell_type": "code",
      "execution_count": null,
      "id": "e08db330",
      "metadata": {
        "id": "e08db330",
        "outputId": "92ce48b2-370e-4d5a-bb57-391435551bed"
      },
      "outputs": [
        {
          "data": {
            "text/plain": [
              "array([[2, 3, 0, 1, 4],\n",
              "       [4, 3, 2, 0, 1],\n",
              "       [2, 3, 0, 4, 1]], dtype=int64)"
            ]
          },
          "execution_count": 66,
          "metadata": {},
          "output_type": "execute_result"
        }
      ],
      "source": [
        "np.argsort(random_array)"
      ]
    },
    {
      "cell_type": "code",
      "execution_count": null,
      "id": "19e7767a",
      "metadata": {
        "id": "19e7767a",
        "outputId": "4560958d-0aec-4bb4-8293-9069168a2c51"
      },
      "outputs": [
        {
          "data": {
            "text/plain": [
              "array([1, 2, 3])"
            ]
          },
          "execution_count": 67,
          "metadata": {},
          "output_type": "execute_result"
        }
      ],
      "source": [
        "a1"
      ]
    },
    {
      "cell_type": "code",
      "execution_count": null,
      "id": "9dbce5d7",
      "metadata": {
        "id": "9dbce5d7",
        "outputId": "bfe5a458-db8b-4f36-fcf0-bed8d1d16476"
      },
      "outputs": [
        {
          "data": {
            "text/plain": [
              "array([0, 1, 2], dtype=int64)"
            ]
          },
          "execution_count": 68,
          "metadata": {},
          "output_type": "execute_result"
        }
      ],
      "source": [
        "np.argsort(a1)"
      ]
    },
    {
      "cell_type": "code",
      "execution_count": null,
      "id": "6d41559e",
      "metadata": {
        "id": "6d41559e",
        "outputId": "f2f4a8b5-4766-44c9-e99d-f89d7970a2ab"
      },
      "outputs": [
        {
          "data": {
            "text/plain": [
              "0"
            ]
          },
          "execution_count": 69,
          "metadata": {},
          "output_type": "execute_result"
        }
      ],
      "source": [
        "np.argmin(a1)"
      ]
    },
    {
      "cell_type": "code",
      "execution_count": null,
      "id": "e5e66a29",
      "metadata": {
        "id": "e5e66a29",
        "outputId": "12ec06ac-fda7-45f1-a66d-cfd1d3338b61"
      },
      "outputs": [
        {
          "data": {
            "text/plain": [
              "2"
            ]
          },
          "execution_count": 70,
          "metadata": {},
          "output_type": "execute_result"
        }
      ],
      "source": [
        "np.argmax(a1)"
      ]
    },
    {
      "cell_type": "code",
      "execution_count": null,
      "id": "5df14227",
      "metadata": {
        "id": "5df14227",
        "outputId": "99d88dee-55a0-44f9-cc58-20c21deaf84d"
      },
      "outputs": [
        {
          "data": {
            "text/plain": [
              "array([[7, 8, 1, 5, 9],\n",
              "       [8, 9, 4, 3, 0],\n",
              "       [3, 5, 0, 2, 3]])"
            ]
          },
          "execution_count": 71,
          "metadata": {},
          "output_type": "execute_result"
        }
      ],
      "source": [
        "random_array"
      ]
    },
    {
      "cell_type": "code",
      "execution_count": null,
      "id": "63d07266",
      "metadata": {
        "id": "63d07266",
        "outputId": "70261172-81c3-4591-dd19-eb7beaaf5e25"
      },
      "outputs": [
        {
          "data": {
            "text/plain": [
              "array([4, 1, 1], dtype=int64)"
            ]
          },
          "execution_count": 72,
          "metadata": {},
          "output_type": "execute_result"
        }
      ],
      "source": [
        "np.argmax(random_array, axis=1)"
      ]
    },
    {
      "cell_type": "markdown",
      "id": "aa99448f",
      "metadata": {
        "id": "aa99448f"
      },
      "source": [
        "## 6. Practical Example - NumPy in Action!!!!"
      ]
    },
    {
      "cell_type": "code",
      "execution_count": null,
      "id": "5bd32211",
      "metadata": {
        "id": "5bd32211"
      },
      "outputs": [],
      "source": []
    }
  ],
  "metadata": {
    "kernelspec": {
      "display_name": "Python 3 (ipykernel)",
      "language": "python",
      "name": "python3"
    },
    "language_info": {
      "codemirror_mode": {
        "name": "ipython",
        "version": 3
      },
      "file_extension": ".py",
      "mimetype": "text/x-python",
      "name": "python",
      "nbconvert_exporter": "python",
      "pygments_lexer": "ipython3",
      "version": "3.10.9"
    },
    "colab": {
      "provenance": [],
      "include_colab_link": true
    }
  },
  "nbformat": 4,
  "nbformat_minor": 5
}