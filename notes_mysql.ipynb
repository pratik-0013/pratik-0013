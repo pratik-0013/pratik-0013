{
  "nbformat": 4,
  "nbformat_minor": 0,
  "metadata": {
    "colab": {
      "provenance": [],
      "authorship_tag": "ABX9TyNklyEBrWLxbNDUz87IBqcl",
      "include_colab_link": true
    },
    "kernelspec": {
      "name": "python3",
      "display_name": "Python 3"
    },
    "language_info": {
      "name": "python"
    }
  },
  "cells": [
    {
      "cell_type": "markdown",
      "metadata": {
        "id": "view-in-github",
        "colab_type": "text"
      },
      "source": [
        "<a href=\"https://colab.research.google.com/github/pratik-0013/pratik-0013/blob/main/notes_mysql.ipynb\" target=\"_parent\"><img src=\"https://colab.research.google.com/assets/colab-badge.svg\" alt=\"Open In Colab\"/></a>"
      ]
    },
    {
      "cell_type": "code",
      "execution_count": null,
      "metadata": {
        "colab": {
          "base_uri": "https://localhost:8080/"
        },
        "id": "bwNoJw5x6t9w",
        "outputId": "7ba14bea-e44f-4e78-badb-bdafbb1332ba"
      },
      "outputs": [
        {
          "output_type": "stream",
          "name": "stdout",
          "text": [
            "Hello\n"
          ]
        }
      ],
      "source": [
        "print('Hello')"
      ]
    },
    {
      "cell_type": "code",
      "source": [
        "# Q. create database\n",
        "# -> create database <data base name>\n",
        "\n",
        "# Q. or use existing database\n",
        "# -> use <database name>\n"
      ],
      "metadata": {
        "id": "jvxN1dkX7Js5"
      },
      "execution_count": null,
      "outputs": []
    },
    {
      "cell_type": "code",
      "source": [
        "# Q. "
      ],
      "metadata": {
        "id": "VJBixfSl_Mtg"
      },
      "execution_count": null,
      "outputs": []
    }
  ]
}